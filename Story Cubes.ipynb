{
 "cells": [
  {
   "cell_type": "code",
   "execution_count": null,
   "id": "39ba2b60",
   "metadata": {},
   "outputs": [],
   "source": [
    "import random\n"
   ]
  },
  {
   "cell_type": "code",
   "execution_count": 54,
   "id": "9e684e70",
   "metadata": {},
   "outputs": [],
   "source": [
    "import random\n",
    "import names\n",
    "\n",
    "def StoryCubes():\n",
    "    while True:\n",
    "        # We put this here, so that the user can chose to roll again or quit.\n",
    "        action = input(\"Press 'Enter' to generate prompts, or press 'q' to quit \").strip()\n",
    "\n",
    "        if action.lower() == \"q\":\n",
    "            break\n",
    "        \n",
    "        character=[\"human\", \"animal\", \"monster\", \"hero\", \"villian\"]\n",
    "        time=[\"Past\", \"Present\", \"Future\"]\n",
    "        genre=[\"fantasy\", \"horror\", \"thriller\",  \"fairytale\", \"sci-fi\", \"mystery\", \"poetry\"]\n",
    "        d1 = [\"spaceship\", \"turtle\", \"running\", \"wall\", \"Earth\", \"New York\", \"spark\", \"castle\", \"bear\", \"monster\", \"book\", \"television\"]\n",
    "        d2=[\"car\", \"street\", \"hole\", \"light\", \"power\", \"tall\", \"music\", \"fight\", \"ocean\", \"mountains\", \"wall\", \"swim\"]\n",
    "        d3=[\"house\", \"beach\", \"school\" , \"walk\", \"trip\", \"stairs\", \"sneak\", \"sleep\", \"eat\", \"drink\", \"food\", \"desert\"]\n",
    "        d4=[\"toy\", \"dog\", \"cat\", \"produce\", \"dry\", \"sound\", \"fire\", \"princess\", \"frog\", \"monster\", \"capture\", \"escape\"]\n",
    "       \n",
    "     \n",
    "        print(\"\\033[1m Genre: \\033[0m \", random.choice(genre))\n",
    "        print(\"\\033[1m Character: \\033[0m \", random.choice(character) )\n",
    "        print(\"\\033[1m Character's Age: \\033[0m \", random.choice(range(10, 55)))\n",
    "        print(\"\\033[1m When:\\033[0m \", random.choice(time))\n",
    "        print(\"\\033[1m  Prompt 1: \\033[0m \", random.choice(d1))\n",
    "        print(\"\\033[1m  Prompt 2: \\033[0m \", random.choice(d2))\n",
    "        print( \"\\033[1m  Prompt 3: \\033[0m \" ,random.choice(d3))\n",
    "        print(\"\\033[1m  Prompt 4: \\033[0m \" ,random.choice(d4))\n",
    "        \n",
    "\n",
    "      "
   ]
  },
  {
   "cell_type": "code",
   "execution_count": 55,
   "id": "31f3be08",
   "metadata": {},
   "outputs": [
    {
     "name": "stdout",
     "output_type": "stream",
     "text": [
      "Press 'Enter' to generate prompts, or press 'q' to quit \n",
      "\u001b[1m Genre: \u001b[0m  fantasy\n",
      "\u001b[1m Character: \u001b[0m  hero\n",
      "\u001b[1m Character's Age: \u001b[0m  14\n",
      "\u001b[1m When:\u001b[0m  Present\n",
      "\u001b[1m  Prompt 1: \u001b[0m  bear\n",
      "\u001b[1m  Prompt 2: \u001b[0m  hole\n",
      "\u001b[1m  Prompt 3: \u001b[0m  sleep\n",
      "\u001b[1m  Prompt 4: \u001b[0m  toy\n",
      "Press 'Enter' to generate prompts, or press 'q' to quit q\n"
     ]
    }
   ],
   "source": [
    "StoryCubes()"
   ]
  },
  {
   "cell_type": "code",
   "execution_count": 47,
   "id": "40b25580",
   "metadata": {},
   "outputs": [],
   "source": [
    "\n",
    "import random\n",
    "\n",
    "\n",
    "def Prompt():\n",
    "    while True:\n",
    "        # We put this here, so that the user can chose to generate another prompt or quit.\n",
    "        action = input(\"\\033[1m \"+ \"Press 'Enter' to generate prompts, or press 'q' to quit \" + \"\\033[0m \\n\"\n",
    "                      + \"\\n\"\n",
    "                      +\"\\n\").strip()\n",
    "\n",
    "        if action.lower() == \"q\":\n",
    "            break\n",
    "\n",
    "        adjective=[\"An old\", \"A young\", \"A troubled\", \"A wise\", \"An injured\", \"A dying\", \"A sick\", \"A persuasive\", \"A clever\"]\n",
    "        characters=[\"wizard\", \"sorcerer\", \"elf\",  \"dwarf\", \"mage\", \"witch\",\n",
    "                   \"hobbit\", \"bard\", \"knight\", \"barbarian\", \"goblin\", \"centaur\", \"giant\" , \"fairy\",  \"dragon\"]\n",
    "\n",
    "        actiona=[\"finds \",  \"discovers \", \"searches for \", \"tracks down \"]\n",
    "        actionb=[\"protects \", \"saves \", \"loves \"]\n",
    "        actionc=[\"fights \", \"destroys \"]\n",
    "        actiond=[\"travels to \", \"runs from \", \"escapes \"]\n",
    "\n",
    "        objecta=[\"a ring \", \"a treasure \", \"magic \", \"a secret \", \"a book \", \"their destiny \"]\n",
    "        objectb=[\"their friend \",\"their leader \", \"their family \", \"their home \", \" their powers \" ]\n",
    "        objectc=[\"a monster \", \"a demon \", \"the enemy \", \"dark magic \", \"a troll \"]\n",
    "        objectd=[\"their home \", \"another world \", \"a prison \", \"the castle \"]\n",
    "        \n",
    "        ##path  a,c,d\n",
    "        prep1=[\"but loses...\", \"but fails to find...\", \"but doesn't realize...\" , \"and is surprised to learn...\"]\n",
    "        ##path b\n",
    "        prep2=[\"but finds...\", \"and discovers..\", \"but discovers...\", \"and finds...\", \"but loses...\"]\n",
    "       \n",
    "   \n",
    "        \n",
    "        \n",
    "\n",
    "        patha=random.choice(actiona) + random.choice(objecta)  + random.choice(prep1)\n",
    "        pathb=random.choice(actionb) + random.choice(objectb) + random.choice(prep2)\n",
    "        pathc=random.choice(actionc) + random.choice(objectc) + random.choice(prep1)\n",
    "        pathd=random.choice(actiond) + random.choice(objectd) + random.choice(prep1)\n",
    "      \n",
    "        paths=[patha, pathb, pathc, pathd]\n",
    "        print(\"\\033[1m  Story Prompt: \\033[0m \" +random.choice(adjective), random.choice(characters), random.choice(paths) + '\\n'  )\n",
    "        \n",
    "\n"
   ]
  },
  {
   "cell_type": "code",
   "execution_count": 56,
   "id": "685d334a",
   "metadata": {
    "scrolled": true
   },
   "outputs": [
    {
     "name": "stdout",
     "output_type": "stream",
     "text": [
      " Press 'Enter' to generate prompts, or press 'q' to quit  \n",
      "\n",
      "\n",
      "\n",
      "\u001b[1m  Story Prompt: \u001b[0m An old barbarian destroys a troll and is surprised to learn...\n",
      "\n",
      " Press 'Enter' to generate prompts, or press 'q' to quit  \n",
      "\n",
      "\n",
      "q\n"
     ]
    }
   ],
   "source": [
    "Prompt()"
   ]
  },
  {
   "cell_type": "code",
   "execution_count": 57,
   "id": "64e69259",
   "metadata": {},
   "outputs": [
    {
     "name": "stdout",
     "output_type": "stream",
     "text": [
      " Press 'Enter' to generate prompts, or press 'q' to quit  \n",
      "\n",
      "\n",
      "q\n"
     ]
    }
   ],
   "source": [
    "Prompt()"
   ]
  },
  {
   "cell_type": "code",
   "execution_count": null,
   "id": "214d16d4",
   "metadata": {},
   "outputs": [],
   "source": []
  }
 ],
 "metadata": {
  "kernelspec": {
   "display_name": "Python 3 (ipykernel)",
   "language": "python",
   "name": "python3"
  },
  "language_info": {
   "codemirror_mode": {
    "name": "ipython",
    "version": 3
   },
   "file_extension": ".py",
   "mimetype": "text/x-python",
   "name": "python",
   "nbconvert_exporter": "python",
   "pygments_lexer": "ipython3",
   "version": "3.9.7"
  }
 },
 "nbformat": 4,
 "nbformat_minor": 5
}
