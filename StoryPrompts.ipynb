{
 "cells": [
  {
   "cell_type": "code",
   "execution_count": 1,
   "id": "39ba2b60",
   "metadata": {},
   "outputs": [],
   "source": [
    "import random\n"
   ]
  },
  {
   "cell_type": "code",
   "execution_count": 2,
   "id": "9e684e70",
   "metadata": {},
   "outputs": [],
   "source": [
    "import random\n",
    "import names\n",
    "\n",
    "def StoryCubes():\n",
    "    while True:\n",
    "        # We put this here, so that the user can chose to roll again or quit.\n",
    "        action = input(\"Press 'Enter' to generate prompts, or press 'q' to quit \").strip()\n",
    "\n",
    "        if action.lower() == \"q\":\n",
    "            break\n",
    "        \n",
    "        character=[\"human\", \"animal\", \"monster\", \"hero\", \"villian\"]\n",
    "        time=[\"Past\", \"Present\", \"Future\"]\n",
    "        genre=[\"fantasy\", \"horror\", \"thriller\",  \"fairytale\", \"sci-fi\", \"mystery\", \"poetry\"]\n",
    "        d1 = [\"spaceship\", \"turtle\", \"running\", \"wall\", \"Earth\", \"New York\", \"spark\", \"castle\", \"bear\", \"monster\", \"book\", \"television\"]\n",
    "        d2=[\"car\", \"street\", \"hole\", \"light\", \"power\", \"tall\", \"music\", \"fight\", \"ocean\", \"mountains\", \"wall\", \"swim\"]\n",
    "        d3=[\"house\", \"beach\", \"school\" , \"walk\", \"trip\", \"stairs\", \"sneak\", \"sleep\", \"eat\", \"drink\", \"food\", \"desert\"]\n",
    "        d4=[\"toy\", \"dog\", \"cat\", \"produce\", \"dry\", \"sound\", \"fire\", \"princess\", \"frog\", \"monster\", \"capture\", \"escape\"]\n",
    "       \n",
    "     \n",
    "        print(\"\\033[1m Genre: \\033[0m \", random.choice(genre))\n",
    "        print(\"\\033[1m Character: \\033[0m \", random.choice(character) )\n",
    "        print(\"\\033[1m Character's Age: \\033[0m \", random.choice(range(10, 55)))\n",
    "        print(\"\\033[1m When:\\033[0m \", random.choice(time))\n",
    "        print(\"\\033[1m  Prompt 1: \\033[0m \", random.choice(d1))\n",
    "        print(\"\\033[1m  Prompt 2: \\033[0m \", random.choice(d2))\n",
    "        print( \"\\033[1m  Prompt 3: \\033[0m \" ,random.choice(d3))\n",
    "        print(\"\\033[1m  Prompt 4: \\033[0m \" ,random.choice(d4))\n",
    "        \n",
    "\n",
    "      "
   ]
  },
  {
   "cell_type": "code",
   "execution_count": 3,
   "id": "31f3be08",
   "metadata": {},
   "outputs": [
    {
     "name": "stdout",
     "output_type": "stream",
     "text": [
      "Press 'Enter' to generate prompts, or press 'q' to quit \n",
      "\u001b[1m Genre: \u001b[0m  sci-fi\n",
      "\u001b[1m Character: \u001b[0m  hero\n",
      "\u001b[1m Character's Age: \u001b[0m  24\n",
      "\u001b[1m When:\u001b[0m  Future\n",
      "\u001b[1m  Prompt 1: \u001b[0m  New York\n",
      "\u001b[1m  Prompt 2: \u001b[0m  street\n",
      "\u001b[1m  Prompt 3: \u001b[0m  eat\n",
      "\u001b[1m  Prompt 4: \u001b[0m  dry\n",
      "Press 'Enter' to generate prompts, or press 'q' to quit q\n"
     ]
    }
   ],
   "source": [
    "StoryCubes()"
   ]
  },
  {
   "cell_type": "code",
   "execution_count": 26,
   "id": "40b25580",
   "metadata": {},
   "outputs": [],
   "source": [
    "\n",
    "import random\n",
    "\n",
    "\n",
    "def FantasyPrompt():\n",
    "    while True:\n",
    "        # We put this here, so that the user can chose to generate another prompt or quit.\n",
    "        action = input(\"\\033[1m \"+ \"Press 'Enter' to generate prompts, or press 'q' to quit \" + \"\\033[0m \\n\"\n",
    "                      + \"\\n\"\n",
    "                      +\"\\n\").strip()\n",
    "\n",
    "        if action.lower() == \"q\":\n",
    "            break\n",
    "\n",
    "        adjective=[\"An old\", \"A young\", \"A troubled\", \"A wise\", \"An injured\", \"A dying\", \"A sick\", \"A persuasive\", \"A clever\", \"A humble\", \"A strange\", \"A strong\"]\n",
    "        characters=[\"wizard\", \"sorcerer\", \"elf\",  \"dwarf\", \"mage\", \"witch\",\n",
    "                   \"hobbit\", \"bard\", \"knight\", \"barbarian\", \"goblin\", \"centaur\", \"giant\" , \"fairy\",  \"dragon\"]\n",
    "        origin=[\"from the South\", \"from the North\", \"from the forest\", \"from the kingdom\", \"from the in-between\"]\n",
    "        actiona=[\"finds \",  \"discovers \", \"searches for \", \"uncovers \"]\n",
    "        actionb=[\"protects \", \"saves \", \"loves \", \"confronts \", \"abandons \"]\n",
    "        actionc=[\"fights \", \"destroys \", \"confronts \", \"challenges \", \"eliminates \", \"defends \", \"protects \"]\n",
    "        actiond=[\"travels to \", \"leaves \", \"escapes \"]\n",
    "\n",
    "        objecta=[\"a ring \", \"a treasure \", \"magic \", \"a secret \", \"a book \", \"their destiny \", \"the truth \"]\n",
    "        objectb=[\"their friend \",\"their leader \", \"their family \", \"their home \", \"their powers \", \"their treasure\", \"an enemy\", \"a monster\" ]\n",
    "        objectc=[\"a monster  \", \"a demon \", \"the enemy  \", \"dark magic \", \"a troll \"]\n",
    "        objectd=[\"their home \", \"another world \", \"a prison \", \"the castle \"]\n",
    "        \n",
    "        ##path  a,c,d\n",
    "        prep1=[\"but loses...\", \"but fails to find...\", \"but doesn't realize...\" , \"and is surprised to learn...\", \"and along the way...\", \"and aides...\", \"and follows...\"]\n",
    "        ##path b\n",
    "        prep2=[\"but finds...\", \"and discovers..\", \"but discovers...\", \"and finds...\", \"but loses...\", \"and learns...\", \"but loses...\"]\n",
    "       \n",
    "   \n",
    "        \n",
    "        \n",
    "\n",
    "        patha=random.choice(actiona) + random.choice(objecta)  + random.choice(prep1)\n",
    "        pathb=random.choice(actionb) + random.choice(objectb) + random.choice(prep2)\n",
    "        pathc=random.choice(actionc) + random.choice(objectc) + random.choice(prep1)\n",
    "        pathd=random.choice(actiond) + random.choice(objectd) + random.choice(prep1)\n",
    "      \n",
    "        paths=[patha, pathb, pathc, pathd]\n",
    "        print(\"\\033[1m  Story Prompt: \\033[0m \" +random.choice(adjective), random.choice(characters),  random.choice(origin), random.choice(paths) + '\\n'  )\n",
    "        \n",
    "\n"
   ]
  },
  {
   "cell_type": "code",
   "execution_count": 27,
   "id": "685d334a",
   "metadata": {
    "scrolled": true
   },
   "outputs": [
    {
     "name": "stdout",
     "output_type": "stream",
     "text": [
      " Press 'Enter' to generate prompts, or press 'q' to quit  \n",
      "\n",
      "\n",
      "\n",
      "\u001b[1m  Story Prompt: \u001b[0m A humble dragon from the forest destroys a demon and along the way...\n",
      "\n",
      " Press 'Enter' to generate prompts, or press 'q' to quit  \n",
      "\n",
      "\n",
      "q\n"
     ]
    }
   ],
   "source": [
    "FantasyPrompt()"
   ]
  },
  {
   "cell_type": "code",
   "execution_count": 30,
   "id": "2e17de72",
   "metadata": {},
   "outputs": [],
   "source": [
    "\n",
    "import random\n",
    "\n",
    "\n",
    "def MysteryPrompt():\n",
    "    while True:\n",
    "        # We put this here, so that the user can chose to generate another prompt or quit.\n",
    "        action = input(\"\\033[1m \"+ \"Press 'Enter' to generate prompts, or press 'q' to quit \" + \"\\033[0m \\n\"\n",
    "                      + \"\\n\"\n",
    "                      +\"\\n\").strip()\n",
    "\n",
    "        if action.lower() == \"q\":\n",
    "            break\n",
    "\n",
    "        \n",
    "        characters=[\"A detective \", \"A teacher \", \"A writer \", \"A musician \", \"A truck driver \", \"A college student \", \"A mother \", \"A widow \"]\n",
    "        backstory=[\"with a troubled past \", \"with a big ego \", \"who's insecure \", \"that barely speaks \", \"who's a bit naive \", \"with no family \"]\n",
    "        actiona=[\"finds \",  \"discovers \",  \"uncovers \"]\n",
    "        actionb=[\"hides \", \"reveals \", \"stumbles upon \"]\n",
    "       \n",
    "        obj=[\"a body \", \"a corpse \", \"human remains \", \"a clue \", \"bones \", \"a drug ring \", \"a conspiracty \"]\n",
    "        verb1=[\"and must \", \"and is forced to \", \"and can't stop but \"]\n",
    "        verb2=[\"run from... \", \"travel to... \",  \"investigate... \", \"search for...  \", \"avoid... \", \"prevent... \"]\n",
    "        \n",
    "        \n",
    "        \n",
    "\n",
    "        patha=random.choice(actiona)\n",
    "        pathb=random.choice(actionb) \n",
    "        \n",
    "        paths=[patha, pathb]\n",
    "        print(\"\\033[1m  Story Prompt: \\033[0m \" +random.choice(characters), random.choice(backstory),  random.choice(paths), random.choice(obj), random.choice(verb1), random.choice(verb2) + '\\n'  )\n",
    "        \n",
    "\n"
   ]
  },
  {
   "cell_type": "code",
   "execution_count": 31,
   "id": "24ae0680",
   "metadata": {},
   "outputs": [
    {
     "name": "stdout",
     "output_type": "stream",
     "text": [
      " Press 'Enter' to generate prompts, or press 'q' to quit  \n",
      "\n",
      "\n",
      "\n",
      "\u001b[1m  Story Prompt: \u001b[0m A teacher  with no family  stumbles upon  a corpse  and must  travel to... \n",
      "\n",
      " Press 'Enter' to generate prompts, or press 'q' to quit  \n",
      "\n",
      "\n",
      "q\n"
     ]
    }
   ],
   "source": [
    "MysteryPrompt()"
   ]
  },
  {
   "cell_type": "code",
   "execution_count": null,
   "id": "ec16d761",
   "metadata": {},
   "outputs": [],
   "source": []
  }
 ],
 "metadata": {
  "kernelspec": {
   "display_name": "Python 3 (ipykernel)",
   "language": "python",
   "name": "python3"
  },
  "language_info": {
   "codemirror_mode": {
    "name": "ipython",
    "version": 3
   },
   "file_extension": ".py",
   "mimetype": "text/x-python",
   "name": "python",
   "nbconvert_exporter": "python",
   "pygments_lexer": "ipython3",
   "version": "3.9.7"
  }
 },
 "nbformat": 4,
 "nbformat_minor": 5
}
